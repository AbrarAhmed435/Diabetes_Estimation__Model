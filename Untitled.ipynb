{
 "cells": [
  {
   "cell_type": "code",
   "execution_count": 1,
   "id": "73e6564d-2d13-4855-8a4a-be54eea18a5e",
   "metadata": {},
   "outputs": [],
   "source": [
    "import numpy as np \n",
    "import pandas as pd "
   ]
  },
  {
   "cell_type": "code",
   "execution_count": 2,
   "id": "c885eb1f-8a87-4389-8df8-7ec8e5719870",
   "metadata": {},
   "outputs": [],
   "source": [
    "df=pd.read_csv('diabetes.csv')"
   ]
  },
  {
   "cell_type": "code",
   "execution_count": 3,
   "id": "0cea8aa2-d658-43bd-93d2-776b8531f470",
   "metadata": {},
   "outputs": [
    {
     "data": {
      "text/html": [
       "<div>\n",
       "<style scoped>\n",
       "    .dataframe tbody tr th:only-of-type {\n",
       "        vertical-align: middle;\n",
       "    }\n",
       "\n",
       "    .dataframe tbody tr th {\n",
       "        vertical-align: top;\n",
       "    }\n",
       "\n",
       "    .dataframe thead th {\n",
       "        text-align: right;\n",
       "    }\n",
       "</style>\n",
       "<table border=\"1\" class=\"dataframe\">\n",
       "  <thead>\n",
       "    <tr style=\"text-align: right;\">\n",
       "      <th></th>\n",
       "      <th>Pregnancies</th>\n",
       "      <th>Glucose</th>\n",
       "      <th>BloodPressure</th>\n",
       "      <th>SkinThickness</th>\n",
       "      <th>Insulin</th>\n",
       "      <th>BMI</th>\n",
       "      <th>DiabetesPedigreeFunction</th>\n",
       "      <th>Age</th>\n",
       "      <th>Outcome</th>\n",
       "    </tr>\n",
       "  </thead>\n",
       "  <tbody>\n",
       "    <tr>\n",
       "      <th>0</th>\n",
       "      <td>6</td>\n",
       "      <td>148</td>\n",
       "      <td>72</td>\n",
       "      <td>35</td>\n",
       "      <td>0</td>\n",
       "      <td>33.6</td>\n",
       "      <td>0.627</td>\n",
       "      <td>50</td>\n",
       "      <td>1</td>\n",
       "    </tr>\n",
       "    <tr>\n",
       "      <th>1</th>\n",
       "      <td>1</td>\n",
       "      <td>85</td>\n",
       "      <td>66</td>\n",
       "      <td>29</td>\n",
       "      <td>0</td>\n",
       "      <td>26.6</td>\n",
       "      <td>0.351</td>\n",
       "      <td>31</td>\n",
       "      <td>0</td>\n",
       "    </tr>\n",
       "    <tr>\n",
       "      <th>2</th>\n",
       "      <td>8</td>\n",
       "      <td>183</td>\n",
       "      <td>64</td>\n",
       "      <td>0</td>\n",
       "      <td>0</td>\n",
       "      <td>23.3</td>\n",
       "      <td>0.672</td>\n",
       "      <td>32</td>\n",
       "      <td>1</td>\n",
       "    </tr>\n",
       "    <tr>\n",
       "      <th>3</th>\n",
       "      <td>1</td>\n",
       "      <td>89</td>\n",
       "      <td>66</td>\n",
       "      <td>23</td>\n",
       "      <td>94</td>\n",
       "      <td>28.1</td>\n",
       "      <td>0.167</td>\n",
       "      <td>21</td>\n",
       "      <td>0</td>\n",
       "    </tr>\n",
       "    <tr>\n",
       "      <th>4</th>\n",
       "      <td>0</td>\n",
       "      <td>137</td>\n",
       "      <td>40</td>\n",
       "      <td>35</td>\n",
       "      <td>168</td>\n",
       "      <td>43.1</td>\n",
       "      <td>2.288</td>\n",
       "      <td>33</td>\n",
       "      <td>1</td>\n",
       "    </tr>\n",
       "  </tbody>\n",
       "</table>\n",
       "</div>"
      ],
      "text/plain": [
       "   Pregnancies  Glucose  BloodPressure  SkinThickness  Insulin   BMI  \\\n",
       "0            6      148             72             35        0  33.6   \n",
       "1            1       85             66             29        0  26.6   \n",
       "2            8      183             64              0        0  23.3   \n",
       "3            1       89             66             23       94  28.1   \n",
       "4            0      137             40             35      168  43.1   \n",
       "\n",
       "   DiabetesPedigreeFunction  Age  Outcome  \n",
       "0                     0.627   50        1  \n",
       "1                     0.351   31        0  \n",
       "2                     0.672   32        1  \n",
       "3                     0.167   21        0  \n",
       "4                     2.288   33        1  "
      ]
     },
     "execution_count": 3,
     "metadata": {},
     "output_type": "execute_result"
    }
   ],
   "source": [
    "df.head()"
   ]
  },
  {
   "cell_type": "code",
   "execution_count": 4,
   "id": "4906f8fd-9878-470b-8ae4-f3ee9a5c8bbf",
   "metadata": {},
   "outputs": [],
   "source": [
    "from sklearn.model_selection import train_test_split"
   ]
  },
  {
   "cell_type": "code",
   "execution_count": 5,
   "id": "ac064b03-a110-4c95-9238-8a2191bb582c",
   "metadata": {},
   "outputs": [],
   "source": [
    "X=df.drop('Outcome',axis=1)"
   ]
  },
  {
   "cell_type": "code",
   "execution_count": 6,
   "id": "0c042689-f5cd-4f91-9fcd-7d728325c40a",
   "metadata": {},
   "outputs": [],
   "source": [
    "y=df['Outcome']"
   ]
  },
  {
   "cell_type": "code",
   "execution_count": 7,
   "id": "06d04c48-d4da-4a9c-8c46-34e453749ff8",
   "metadata": {},
   "outputs": [],
   "source": [
    "X_train, X_test, y_train, y_test = train_test_split(X, y, test_size=0.20, random_state=42)"
   ]
  },
  {
   "cell_type": "code",
   "execution_count": 8,
   "id": "af3730c3-7a0d-40f4-845d-d525ad683a67",
   "metadata": {},
   "outputs": [],
   "source": [
    "from sklearn.preprocessing import StandardScaler\n",
    "scalar=StandardScaler()\n"
   ]
  },
  {
   "cell_type": "code",
   "execution_count": 9,
   "id": "26998ba9-d64c-40d2-b4ee-7ef8e182f3fe",
   "metadata": {},
   "outputs": [],
   "source": [
    "X_train_scaled=scalar.fit_transform(X_train)\n",
    "X_test_scaled=scalar.transform(X_test)\n"
   ]
  },
  {
   "cell_type": "code",
   "execution_count": 10,
   "id": "ac895e2e-d9bc-48fb-b318-57570031881a",
   "metadata": {},
   "outputs": [
    {
     "data": {
      "text/html": [
       "<div>\n",
       "<style scoped>\n",
       "    .dataframe tbody tr th:only-of-type {\n",
       "        vertical-align: middle;\n",
       "    }\n",
       "\n",
       "    .dataframe tbody tr th {\n",
       "        vertical-align: top;\n",
       "    }\n",
       "\n",
       "    .dataframe thead th {\n",
       "        text-align: right;\n",
       "    }\n",
       "</style>\n",
       "<table border=\"1\" class=\"dataframe\">\n",
       "  <thead>\n",
       "    <tr style=\"text-align: right;\">\n",
       "      <th></th>\n",
       "      <th>Pregnancies</th>\n",
       "      <th>Glucose</th>\n",
       "      <th>BloodPressure</th>\n",
       "      <th>SkinThickness</th>\n",
       "      <th>Insulin</th>\n",
       "      <th>BMI</th>\n",
       "      <th>DiabetesPedigreeFunction</th>\n",
       "      <th>Age</th>\n",
       "    </tr>\n",
       "  </thead>\n",
       "  <tbody>\n",
       "    <tr>\n",
       "      <th>count</th>\n",
       "      <td>614.000000</td>\n",
       "      <td>614.000000</td>\n",
       "      <td>614.000000</td>\n",
       "      <td>614.000000</td>\n",
       "      <td>614.000000</td>\n",
       "      <td>614.000000</td>\n",
       "      <td>614.000000</td>\n",
       "      <td>614.000000</td>\n",
       "    </tr>\n",
       "    <tr>\n",
       "      <th>mean</th>\n",
       "      <td>3.742671</td>\n",
       "      <td>120.855049</td>\n",
       "      <td>69.415309</td>\n",
       "      <td>20.399023</td>\n",
       "      <td>81.438111</td>\n",
       "      <td>31.983388</td>\n",
       "      <td>0.469168</td>\n",
       "      <td>32.907166</td>\n",
       "    </tr>\n",
       "    <tr>\n",
       "      <th>std</th>\n",
       "      <td>3.313264</td>\n",
       "      <td>32.035057</td>\n",
       "      <td>18.512599</td>\n",
       "      <td>15.433974</td>\n",
       "      <td>116.234835</td>\n",
       "      <td>7.740625</td>\n",
       "      <td>0.336847</td>\n",
       "      <td>11.503437</td>\n",
       "    </tr>\n",
       "    <tr>\n",
       "      <th>min</th>\n",
       "      <td>0.000000</td>\n",
       "      <td>0.000000</td>\n",
       "      <td>0.000000</td>\n",
       "      <td>0.000000</td>\n",
       "      <td>0.000000</td>\n",
       "      <td>0.000000</td>\n",
       "      <td>0.078000</td>\n",
       "      <td>21.000000</td>\n",
       "    </tr>\n",
       "    <tr>\n",
       "      <th>25%</th>\n",
       "      <td>1.000000</td>\n",
       "      <td>100.000000</td>\n",
       "      <td>64.000000</td>\n",
       "      <td>0.000000</td>\n",
       "      <td>0.000000</td>\n",
       "      <td>27.100000</td>\n",
       "      <td>0.241500</td>\n",
       "      <td>24.000000</td>\n",
       "    </tr>\n",
       "    <tr>\n",
       "      <th>50%</th>\n",
       "      <td>3.000000</td>\n",
       "      <td>117.000000</td>\n",
       "      <td>72.000000</td>\n",
       "      <td>23.000000</td>\n",
       "      <td>42.500000</td>\n",
       "      <td>32.000000</td>\n",
       "      <td>0.372500</td>\n",
       "      <td>29.000000</td>\n",
       "    </tr>\n",
       "    <tr>\n",
       "      <th>75%</th>\n",
       "      <td>6.000000</td>\n",
       "      <td>139.000000</td>\n",
       "      <td>80.000000</td>\n",
       "      <td>32.000000</td>\n",
       "      <td>129.750000</td>\n",
       "      <td>36.375000</td>\n",
       "      <td>0.613750</td>\n",
       "      <td>40.000000</td>\n",
       "    </tr>\n",
       "    <tr>\n",
       "      <th>max</th>\n",
       "      <td>17.000000</td>\n",
       "      <td>199.000000</td>\n",
       "      <td>122.000000</td>\n",
       "      <td>63.000000</td>\n",
       "      <td>846.000000</td>\n",
       "      <td>67.100000</td>\n",
       "      <td>2.420000</td>\n",
       "      <td>81.000000</td>\n",
       "    </tr>\n",
       "  </tbody>\n",
       "</table>\n",
       "</div>"
      ],
      "text/plain": [
       "       Pregnancies     Glucose  BloodPressure  SkinThickness     Insulin  \\\n",
       "count   614.000000  614.000000     614.000000     614.000000  614.000000   \n",
       "mean      3.742671  120.855049      69.415309      20.399023   81.438111   \n",
       "std       3.313264   32.035057      18.512599      15.433974  116.234835   \n",
       "min       0.000000    0.000000       0.000000       0.000000    0.000000   \n",
       "25%       1.000000  100.000000      64.000000       0.000000    0.000000   \n",
       "50%       3.000000  117.000000      72.000000      23.000000   42.500000   \n",
       "75%       6.000000  139.000000      80.000000      32.000000  129.750000   \n",
       "max      17.000000  199.000000     122.000000      63.000000  846.000000   \n",
       "\n",
       "              BMI  DiabetesPedigreeFunction         Age  \n",
       "count  614.000000                614.000000  614.000000  \n",
       "mean    31.983388                  0.469168   32.907166  \n",
       "std      7.740625                  0.336847   11.503437  \n",
       "min      0.000000                  0.078000   21.000000  \n",
       "25%     27.100000                  0.241500   24.000000  \n",
       "50%     32.000000                  0.372500   29.000000  \n",
       "75%     36.375000                  0.613750   40.000000  \n",
       "max     67.100000                  2.420000   81.000000  "
      ]
     },
     "execution_count": 10,
     "metadata": {},
     "output_type": "execute_result"
    }
   ],
   "source": [
    "X_train.describe()"
   ]
  },
  {
   "cell_type": "code",
   "execution_count": 11,
   "id": "6d2770fe-5012-4f2f-ae20-28056e47fa58",
   "metadata": {},
   "outputs": [
    {
     "data": {
      "text/plain": [
       "array([[-0.52639686, -1.15139792, -3.75268255, ..., -4.13525578,\n",
       "        -0.49073479, -1.03594038],\n",
       "       [ 1.58804586, -0.27664283,  0.68034485, ..., -0.48916881,\n",
       "         2.41502991,  1.48710085],\n",
       "       [-0.82846011,  0.56687102, -1.2658623 , ..., -0.42452187,\n",
       "         0.54916055, -0.94893896],\n",
       "       ...,\n",
       "       [ 1.8901091 , -0.62029661,  0.89659009, ...,  1.76054443,\n",
       "         1.981245  ,  0.44308379],\n",
       "       [-1.13052335,  0.62935353, -3.75268255, ...,  1.34680407,\n",
       "        -0.78487662, -0.33992901],\n",
       "       [-1.13052335,  0.12949347,  1.43720319, ..., -1.22614383,\n",
       "        -0.61552223, -1.03594038]], shape=(614, 8))"
      ]
     },
     "execution_count": 11,
     "metadata": {},
     "output_type": "execute_result"
    }
   ],
   "source": [
    "X_train_scaled"
   ]
  },
  {
   "cell_type": "code",
   "execution_count": 12,
   "id": "b311ebcb-e4a3-46d7-a080-25f679bbe524",
   "metadata": {},
   "outputs": [],
   "source": [
    "import torch\n",
    "import torch.nn as nn\n",
    "import torch.nn.functional as F\n",
    "import matplotlib.pyplot as plt\n",
    "%matplotlib inline"
   ]
  },
  {
   "cell_type": "code",
   "execution_count": 13,
   "id": "da5a9a3e-b4d7-4d83-80a9-6e4712ec7a12",
   "metadata": {},
   "outputs": [],
   "source": [
    "class Model(nn.Module):\n",
    "    def __init__(self, in_features=8, h1=8, h2=9,h3=8, out_features=2):\n",
    "        super(Model, self).__init__()\n",
    "        self.fc1 = nn.Linear(in_features, h1)\n",
    "        #self.dropout1 = nn.Dropout(0.3)  # Reduced dropout rate\n",
    "        self.fc2 = nn.Linear(h1, h2)\n",
    "        #self.dropout2 = nn.Dropout(0.3)  # Reduced dropout rate\n",
    "        self.fc3 = nn.Linear(h2, h3)\n",
    "        self.out = nn.Linear(h3, out_features)  # Output layer with 2 units (for binary classification)\n",
    "\n",
    "    def forward(self, x):\n",
    "        x = F.relu(self.fc1(x))\n",
    "        #x = self.dropout1(x)  # Apply dropout\n",
    "        x = F.relu(self.fc2(x))\n",
    "        #x = self.dropout2(x)  # Apply dropout\n",
    "        x = F.relu(self.fc3(x))\n",
    "        \n",
    "        x = self.out(x)\n",
    "        return x  # Logits are returned before applying sigmoid (for CrossEntropyLoss)"
   ]
  },
  {
   "cell_type": "code",
   "execution_count": 14,
   "id": "7ee47c6f-ca7a-40d2-b5d7-5b61b44daf17",
   "metadata": {},
   "outputs": [],
   "source": [
    "torch.manual_seed(41)\n",
    "\n",
    "model = Model()"
   ]
  },
  {
   "cell_type": "code",
   "execution_count": 15,
   "id": "893fe2c3-6f37-4b5a-8dda-1369545237a5",
   "metadata": {},
   "outputs": [],
   "source": [
    "X_train_scaled=torch.FloatTensor(X_train_scaled)\n",
    "X_test_scaled=torch.FloatTensor(X_test_scaled)\n",
    "y_test=y_test.values\n",
    "y_train=y_train.values\n",
    "y_train=torch.LongTensor(y_train)\n",
    "y_test=torch.LongTensor(y_test)"
   ]
  },
  {
   "cell_type": "code",
   "execution_count": 16,
   "id": "8a2d948f-d79e-41bd-8d18-2e2d910727c3",
   "metadata": {},
   "outputs": [],
   "source": [
    "import torch.optim as optim\n",
    "criterion = nn.CrossEntropyLoss()\n",
    "optimizer = optim.Adam(model.parameters(), lr=0.01)\n",
    "#scheduler = optim.lr_scheduler.StepLR(optimizer, step_size=100, gamma=0.1)  # Learning rate scheduler"
   ]
  },
  {
   "cell_type": "code",
   "execution_count": 17,
   "id": "843b9da0-9e5b-4917-a95e-8a7ac56e7e44",
   "metadata": {},
   "outputs": [],
   "source": [
    "\n",
    "# Early stopping parameters\n",
    "early_stop_patience = 10\n",
    "best_val_loss = float('inf')\n",
    "patience_counter = 0"
   ]
  },
  {
   "cell_type": "markdown",
   "id": "8f9188ba-6434-4211-a9c1-8f37ccfa571a",
   "metadata": {},
   "source": [
    "TRAINING OUR MODEL"
   ]
  },
  {
   "cell_type": "code",
   "execution_count": 18,
   "id": "4389b0b5-80bc-45e5-8eb6-eac215f7d083",
   "metadata": {},
   "outputs": [
    {
     "name": "stdout",
     "output_type": "stream",
     "text": [
      "Epoch 0 - Training Loss: 0.6520337462425232\n",
      "Epoch 20 - Training Loss: 0.5112035274505615\n",
      "Epoch 40 - Training Loss: 0.4522938132286072\n",
      "Epoch 60 - Training Loss: 0.4303677976131439\n",
      "Epoch 80 - Training Loss: 0.4112228453159332\n"
     ]
    }
   ],
   "source": [
    "# Track loss\n",
    "epochs = 100\n",
    "Losses = []\n",
    "val_losses = []\n",
    "\n",
    "# Training loop\n",
    "for i in range(epochs):\n",
    "    model.train()  # Set the model to training mode\n",
    "    optimizer.zero_grad()\n",
    "    \n",
    "    y_pred = model(X_train_scaled)  # Forward pass\n",
    "    Loss = criterion(y_pred, y_train)  # Compute loss\n",
    "    Losses.append(Loss.item())  # Append the loss to track it\n",
    "    if i % 20 == 0:\n",
    "        print(f'Epoch {i} - Training Loss: {Loss.item()}')\n",
    "    optimizer.zero_grad()\n",
    "    Loss.backward()  # Backpropagation\n",
    "    optimizer.step()  \n",
    "   \n"
   ]
  },
  {
   "cell_type": "code",
   "execution_count": 19,
   "id": "b08016e1-3f7d-4c29-834c-82790cbc3dea",
   "metadata": {},
   "outputs": [
    {
     "data": {
      "image/png": "[encoded data removed]",
      "text/plain": [
       "<Figure size 640x480 with 1 Axes>"
      ]
     },
     "metadata": {},
     "output_type": "display_data"
    }
   ],
   "source": [
    "#Graph\n",
    "plt.plot(range(epochs),Losses) #range i used to create sequence of numbers from 0 to 'epochs';\n",
    "plt.ylabel('Loss')\n",
    "plt.xlabel('Epochs')\n",
    "plt.show()"
   ]
  },
  {
   "cell_type": "code",
   "execution_count": 20,
   "id": "94964727-9d0c-406f-b4dc-c7e258c955d3",
   "metadata": {},
   "outputs": [
    {
     "name": "stdout",
     "output_type": "stream",
     "text": [
      "tensor(0.5305)\n"
     ]
    }
   ],
   "source": [
    "\n",
    "#Evaluate Model on Test Data set (validate model on test set)\n",
    "with torch.no_grad():\n",
    "  y_eval=model.forward(X_test_scaled)\n",
    "  Loss=criterion(y_eval,y_test)\n",
    "\n",
    "print(Loss)"
   ]
  },
  {
   "cell_type": "code",
   "execution_count": 21,
   "id": "ec5c832a-5ffd-4091-ae2d-e3ee3776e1a9",
   "metadata": {},
   "outputs": [
    {
     "name": "stdout",
     "output_type": "stream",
     "text": [
      "Actual\tPredicted\n",
      " 0\t0\n",
      " 0\t0\n",
      " 0\t0\n",
      " 0\t0\n",
      " 0\t0\n",
      " 0\t0\n",
      " 0\t0\n",
      " 0\t1\n",
      " 0\t1\n",
      " 0\t0\n",
      " 1\t0\n",
      " 0\t1\n",
      " 1\t0\n",
      " 0\t0\n",
      " 0\t0\n",
      " 1\t1\n",
      " 0\t0\n",
      " 0\t0\n",
      " 1\t1\n",
      " 1\t1\n",
      " 0\t0\n",
      " 0\t0\n",
      " 0\t0\n",
      " 0\t0\n",
      " 0\t0\n",
      " 1\t1\n",
      " 0\t0\n",
      " 0\t0\n",
      " 1\t0\n",
      " 0\t0\n",
      " 1\t1\n",
      " 1\t1\n",
      " 1\t1\n",
      " 1\t1\n",
      " 0\t0\n",
      " 1\t1\n",
      " 1\t1\n",
      " 1\t1\n",
      " 0\t0\n",
      " 1\t1\n",
      " 0\t0\n",
      " 0\t1\n",
      " 0\t0\n",
      " 1\t0\n",
      " 0\t0\n",
      " 1\t1\n",
      " 1\t1\n",
      " 0\t0\n",
      " 0\t0\n",
      " 0\t1\n",
      " 0\t0\n",
      " 1\t1\n",
      " 1\t1\n",
      " 1\t0\n",
      " 0\t0\n",
      " 0\t0\n",
      " 0\t1\n",
      " 0\t0\n",
      " 0\t1\n",
      " 1\t1\n",
      " 1\t1\n",
      " 0\t0\n",
      " 0\t1\n",
      " 1\t0\n",
      " 0\t0\n",
      " 0\t1\n",
      " 0\t0\n",
      " 1\t1\n",
      " 0\t0\n",
      " 1\t1\n",
      " 0\t1\n",
      " 0\t0\n",
      " 0\t0\n",
      " 1\t0\n",
      " 0\t0\n",
      " 0\t0\n",
      " 0\t0\n",
      " 0\t0\n",
      " 0\t0\n",
      " 0\t0\n",
      " 1\t1\n",
      " 1\t0\n",
      " 0\t0\n",
      " 0\t0\n",
      " 0\t0\n",
      " 1\t1\n",
      " 1\t1\n",
      " 1\t0\n",
      " 0\t0\n",
      " 0\t0\n",
      " 0\t0\n",
      " 0\t0\n",
      " 0\t0\n",
      " 1\t1\n",
      " 0\t1\n",
      " 0\t1\n",
      " 0\t0\n",
      " 0\t0\n",
      " 1\t1\n",
      " 0\t0\n",
      " 0\t1\n",
      " 0\t0\n",
      " 1\t1\n",
      " 0\t1\n",
      " 1\t1\n",
      " 0\t0\n",
      " 0\t0\n",
      " 1\t1\n",
      " 1\t0\n",
      " 1\t1\n",
      " 0\t0\n",
      " 0\t0\n",
      " 0\t0\n",
      " 1\t1\n",
      " 0\t0\n",
      " 0\t0\n",
      " 1\t1\n",
      " 0\t0\n",
      " 0\t0\n",
      " 0\t1\n",
      " 0\t0\n",
      " 0\t0\n",
      " 1\t0\n",
      " 0\t0\n",
      " 0\t0\n",
      " 0\t0\n",
      " 1\t0\n",
      " 1\t1\n",
      " 1\t1\n",
      " 0\t1\n",
      " 1\t1\n",
      " 1\t1\n",
      " 0\t0\n",
      " 1\t0\n",
      " 1\t1\n",
      " 0\t0\n",
      " 1\t0\n",
      " 1\t1\n",
      " 1\t1\n",
      " 0\t0\n",
      " 0\t0\n",
      " 0\t0\n",
      " 0\t0\n",
      " 0\t0\n",
      " 0\t0\n",
      " 0\t0\n",
      " 1\t0\n",
      " 0\t0\n",
      " 0\t0\n",
      " 1\t1\n",
      " 0\t0\n",
      " 0\t0\n",
      " 1\t0\n",
      " 0\t0\n"
     ]
    }
   ],
   "source": [
    "correct=0\n",
    "print('Actual\\tPredicted')\n",
    "with torch.no_grad():\n",
    "  for i,data in enumerate(X_test_scaled):\n",
    "    y_val=model.forward(data)\n",
    "    print(f' {y_test[i]}\\t{y_val.argmax().item()}')\n",
    "\n",
    "    if y_val.argmax().item()==y_test[i]:\n",
    "      correct+=1\n"
   ]
  },
  {
   "cell_type": "code",
   "execution_count": 22,
   "id": "c16fa10f-f00b-4493-9d29-8b4335afe31e",
   "metadata": {},
   "outputs": [
    {
     "name": "stdout",
     "output_type": "stream",
     "text": [
      "\n",
      "122 out of 154  are correct i.e., 79.22077922077922% correct\n"
     ]
    }
   ],
   "source": [
    "print(f'\\n{correct} out of {len(y_test)}  are correct i.e., {100*correct/len(y_test)}% correct')"
   ]
  },
  {
   "cell_type": "code",
   "execution_count": 23,
   "id": "9620579b-1b76-432f-b8e3-ca144a7cda5b",
   "metadata": {},
   "outputs": [],
   "source": [
    "arr=[0.6819, -0.7140, -0.6171,  0.8171,  0.9347,  0.2607, -0.1164,  0.8781]\n",
    "t1=torch.tensor(arr)\n",
    "y_pred2=model.forward(t1)"
   ]
  },
  {
   "cell_type": "code",
   "execution_count": 26,
   "id": "b5462abb-e168-4e4d-bf40-7326346a2c24",
   "metadata": {},
   "outputs": [],
   "source": [
    "# Assuming you have a trained model\n",
    "torch.save(model.state_dict(), 'model.pth')\n",
    "\n",
    "import pickle\n",
    "with open('scaler.pkl', 'wb') as f:\n",
    "    pickle.dump(scalar, f)"
   ]
  },
  {
   "cell_type": "code",
   "execution_count": null,
   "id": "9f89dbca-a52e-4c36-9cf3-b0d071bebee9",
   "metadata": {},
   "outputs": [],
   "source": [
    "import pickle\n",
    "pickle.dump(model,open('model.pkl','wb'))"
   ]
  },
  {
   "cell_type": "code",
   "execution_count": null,
   "id": "977f3a14-c2a6-4338-8341-dca6957f1702",
   "metadata": {},
   "outputs": [],
   "source": []
  }
 ],
 "metadata": {
  "kernelspec": {
   "display_name": "Python 3 (ipykernel)",
   "language": "python",
   "name": "python3"
  },
  "language_info": {
   "codemirror_mode": {
    "name": "ipython",
    "version": 3
   },
   "file_extension": ".py",
   "mimetype": "text/x-python",
   "name": "python",
   "nbconvert_exporter": "python",
   "pygments_lexer": "ipython3",
   "version": "3.13.1"
  }
 },
 "nbformat": 4,
 "nbformat_minor": 5
}
